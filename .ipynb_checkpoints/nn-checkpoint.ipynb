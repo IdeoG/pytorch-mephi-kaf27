{
 "cells": [
  {
   "cell_type": "markdown",
   "metadata": {},
   "source": [
    "**Import libraries**\n",
    "\n",
    "----"
   ]
  },
  {
   "cell_type": "code",
   "execution_count": 1,
   "metadata": {},
   "outputs": [],
   "source": [
    "import torch\n",
    "import torch.nn as nn\n",
    "from torch.autograd import Variable\n",
    "import torch.nn.functional as F\n",
    "from torch.utils.data import Dataset, DataLoader\n",
    "import torch.optim as optim\n",
    "from tqdm import *\n",
    "from torchnet import meter"
   ]
  },
  {
   "cell_type": "code",
   "execution_count": 467,
   "metadata": {},
   "outputs": [],
   "source": [
    "import numpy as np\n",
    "import matplotlib.pyplot as plt\n",
    "import pandas as pd\n",
    "from sklearn.model_selection import train_test_split\n",
    "# %matplotlib notebook\n",
    "\n",
    "%matplotlib inline"
   ]
  },
  {
   "cell_type": "markdown",
   "metadata": {},
   "source": [
    "**Загрузка данных**\n",
    "\n",
    "----"
   ]
  },
  {
   "cell_type": "code",
   "execution_count": 468,
   "metadata": {},
   "outputs": [],
   "source": [
    "class Batch:\n",
    "    def __init__(self, mini_batch):\n",
    "        self.mini_batch = np.array(mini_batch)\n",
    "    \n",
    "    def __len__(self):\n",
    "        return self.mini_batch.shape[0]\n",
    "    \n",
    "    def __getitem__(self, idx):\n",
    "        return self.mini_batch[idx]\n",
    "    \n",
    "    @property\n",
    "    def max(self):\n",
    "        return self.mini_batch.max()\n",
    "        \n",
    "    def peak_index_extractor(self, perc):\n",
    "        '''Extract peak indexes in numpy array higher than threshold'''\n",
    "        \n",
    "        x = self.mini_batch\n",
    "        xmin = x.max() * perc / 100\n",
    "        x = x - xmin\n",
    "        x[x < 0] = 0\n",
    "        peak_storage = []\n",
    "        for i in range(2,len(x)-2):\n",
    "            if (x[i-1] < x[i]) and (x[i+1] < x[i]) and (x[i-2] < x[i]) and (x[i+2] < x[i]):\n",
    "                peak_storage.append(i)\n",
    "        return peak_storage\n",
    "    \n",
    "    def max_len_bw_peaks(self, perc):\n",
    "        '''Calculate maximum lenght between peak neighboorhood'''\n",
    "    \n",
    "        old_x_hat = 0\n",
    "        max_len = 0\n",
    "        for x_hat in self.peak_index_extractor(perc):\n",
    "            if (x_hat - old_x_hat) > max_len: \n",
    "                max_len = x_hat -old_x_hat \n",
    "                v_max = [old_x_hat, x_hat]\n",
    "            old_x_hat = x_hat\n",
    "        return max_len\n",
    "    \n",
    "    def min_len_bw_peaks(self, perc):\n",
    "        '''Calculate minimum lenght between peak neighboorhood'''\n",
    "        \n",
    "        old_x_hat = 0\n",
    "        min_len = 25000\n",
    "        for x_hat in self.peak_index_extractor(perc):\n",
    "            if (x_hat - old_x_hat) < min_len: \n",
    "                min_len = x_hat - old_x_hat \n",
    "                v_min = [old_x_hat, x_hat]\n",
    "            old_x_hat = x_hat\n",
    "        return min_len\n",
    "    \n",
    "    def avg_len_bw_peaks(self, perc):\n",
    "        '''Calculate average lenght between peak neighboorhood'''\n",
    "\n",
    "        old_x_hat = 0\n",
    "        avg_len = 0\n",
    "        cnt = 0\n",
    "        for x_hat in self.peak_index_extractor(perc):\n",
    "            avg_len += (x_hat - old_x_hat)\n",
    "            old_x_hat = x_hat\n",
    "            cnt += 1\n",
    "        if cnt == 0:\n",
    "            return 0\n",
    "        return avg_len / cnt\n",
    "    \n",
    "    @property\n",
    "    def peak_exist(self):\n",
    "        peak_list = self.peak_index_extractor(0)\n",
    "        if peak_list == []:\n",
    "            return 0\n",
    "        return 1\n",
    "    \n",
    "    def find_nullable_mini_batch(self, batches):\n",
    "        offset = 1\n",
    "        for mini_batch in reversed(batches):\n",
    "            if mini_batch[-1] == 1:\n",
    "                return offset\n",
    "            offset += 1\n",
    "        return offset\n",
    "            \n",
    "        \n",
    "    \n",
    "    @property\n",
    "    def features(self):\n",
    "        '''Extract features from given time buffer'''\n",
    "        '''Total features = 19'''\n",
    "        \n",
    "        data_features = np.array([np.average(self.mini_batch)])\n",
    "        data_features = np.append(data_features, self.mini_batch.max())\n",
    "        \n",
    "        data_features = np.append(data_features, len(self.peak_index_extractor(0)))\n",
    "        data_features = np.append(data_features, self.min_len_bw_peaks(0))\n",
    "        data_features = np.append(data_features, self.max_len_bw_peaks(0))\n",
    "        data_features = np.append(data_features, self.avg_len_bw_peaks(0))\n",
    "        \n",
    "        data_features = np.append(data_features, len(self.peak_index_extractor(10)))\n",
    "        data_features = np.append(data_features, self.min_len_bw_peaks(10))\n",
    "        data_features = np.append(data_features, self.max_len_bw_peaks(10))\n",
    "        data_features = np.append(data_features, self.avg_len_bw_peaks(10))\n",
    "        \n",
    "        data_features = np.append(data_features, len(self.peak_index_extractor(50)))\n",
    "        data_features = np.append(data_features, self.min_len_bw_peaks(50))\n",
    "        data_features = np.append(data_features, self.max_len_bw_peaks(50))\n",
    "        data_features = np.append(data_features, self.avg_len_bw_peaks(50))\n",
    "        \n",
    "        data_features = np.append(data_features, len(self.peak_index_extractor(90)))\n",
    "        data_features = np.append(data_features, self.min_len_bw_peaks(90))\n",
    "        data_features = np.append(data_features, self.max_len_bw_peaks(90))\n",
    "        data_features = np.append(data_features, self.avg_len_bw_peaks(90))\n",
    "        \n",
    "        data_features = np.append(data_features, self.peak_exist)\n",
    "        return data_features\n",
    "    \n",
    "    def additional_features(self, batches):\n",
    "        '''Extract features that is depends on previous mini_batches'''\n",
    "        '''Total features = 14'''\n",
    "        data_features = np.array([])\n",
    "        if len(batches) > 4:   \n",
    "            data_features = np.array([self.find_nullable_mini_batch(batches)])\n",
    "\n",
    "            data_features = np.append(data_features, batches[-1][6])\n",
    "            data_features = np.append(data_features, batches[-1][10])\n",
    "            data_features = np.append(data_features, batches[-1][14])\n",
    "            data_features = np.append(data_features, batches[-1][15])\n",
    "\n",
    "            data_features = np.append(data_features, batches[-2][6])\n",
    "            data_features = np.append(data_features, batches[-2][10])\n",
    "            data_features = np.append(data_features, batches[-2][14])\n",
    "            data_features = np.append(data_features, batches[-2][15])\n",
    "\n",
    "            data_features = np.append(data_features, batches[-3][6])\n",
    "            data_features = np.append(data_features, batches[-3][10])\n",
    "            data_features = np.append(data_features, batches[-3][14])\n",
    "            data_features = np.append(data_features, batches[-3][15])\n",
    "\n",
    "            data_features = np.append(data_features, batches[-4][6])\n",
    "        else:\n",
    "            data_features = np.zeros(14)\n",
    "        return data_features"
   ]
  },
  {
   "cell_type": "code",
   "execution_count": 469,
   "metadata": {},
   "outputs": [],
   "source": [
    "class MyDataLoader:\n",
    "    def __init__(self, ms=1000, std_size=2):\n",
    "        self.std_size = std_size\n",
    "        self.ms = ms\n",
    "        self.dataset_location = \"./data\"\n",
    "        self.dataset = None\n",
    "        self.alpha_dataset = np.array([])\n",
    "        self.beta_dataset = np.array([])\n",
    "        self.background_dataset = np.array([])\n",
    "        self.X = None\n",
    "        self.Y = None\n",
    "    \n",
    "    @property\n",
    "    def shape(self):\n",
    "        return self.X.shape\n",
    "        \n",
    "    def read_file(self, i, j):\n",
    "        '''Получим входные вектора'''\n",
    "        \n",
    "        f = open('./data/%s_%s.txt' %(i,j))\n",
    "        data = []\n",
    "        for line in f:\n",
    "            data.append(float(line))\n",
    "        data = np.array(data)\n",
    "        return data\n",
    "    \n",
    "    def share_data(self, data, ms):\n",
    "        '''Разделим выборку на батчи с интервалов ms (мс)'''\n",
    "        \n",
    "        ms = 10 * ms  // 4\n",
    "        shared_data = []\n",
    "        for iter in range(len(data)//ms):\n",
    "            mini_batch = Batch(data[iter*ms:(iter+1)*ms])\n",
    "            shared_data.append(mini_batch)\n",
    "        return shared_data\n",
    "    \n",
    "    def normalize(self, x, mean, std):\n",
    "        '''Normalize data'''\n",
    "        x_max = 5.0 - mean\n",
    "        x = (x - mean - self.std_size*std) / x_max\n",
    "        x[x < 0] = 0\n",
    "        return x\n",
    "    \n",
    "    def load_dataset(self):\n",
    "        '''Загрузим датасет'''\n",
    "        \n",
    "        for i in tqdm(range(1, 9)):\n",
    "            self.background_dataset = np.concatenate((self.background_dataset, self.read_file(i,1)), axis=0)\n",
    "            self.alpha_dataset = np.concatenate((self.alpha_dataset, self.read_file(i,2)), axis=0)\n",
    "            self.beta_dataset = np.concatenate((self.beta_dataset, self.read_file(i,3)), axis=0)\n",
    "         \n",
    "        mean, std = self.background_dataset.mean(), self.background_dataset.std()\n",
    "        \n",
    "        self.background_dataset = self.normalize(self.background_dataset, mean, std)\n",
    "        self.alpha_dataset = self.normalize(self.alpha_dataset, mean, std)\n",
    "        self.beta_dataset = self.normalize(self.beta_dataset, mean, std)\n",
    "        \n",
    "        self.background_dataset = self.share_data(self.background_dataset, self.ms)\n",
    "        self.alpha_dataset = self.share_data(self.alpha_dataset, self.ms)\n",
    "        self.beta_dataset = self.share_data(self.beta_dataset, self.ms) \n",
    "    \n",
    "    def extract_feature_map(self, dataset):\n",
    "        '''Extract feature map from given dataset'''\n",
    "        \n",
    "        feature_map = []\n",
    "        additional_feature_map = []\n",
    "        for data in dataset:\n",
    "            feature_map.append(data.features)\n",
    "            additional_feature_map.append(data.additional_features(feature_map))\n",
    "        feature_map = np.array(feature_map)\n",
    "        additional_feature_map = np.array(additional_feature_map)\n",
    "        return np.concatenate((feature_map, additional_feature_map), axis=1)\n",
    "    \n",
    "    def generate_inputs_labels(self):\n",
    "        '''Generate inputs and labels for given datasets'''\n",
    "        \n",
    "        alpha_inputs = self.extract_feature_map(self.alpha_dataset)\n",
    "        beta_inputs = self.extract_feature_map(self.beta_dataset)\n",
    "        back_inputs = self.extract_feature_map(self.background_dataset)\n",
    "        \n",
    "        alpha_labels = np.array([1 for x in alpha_inputs])\n",
    "        beta_labels = np.array([2 for x in beta_inputs])\n",
    "        back_labels = np.array([0 for x in back_inputs])\n",
    "        \n",
    "        print (alpha_inputs.shape, beta_inputs.shape, back_inputs.shape)\n",
    "        print (alpha_labels.shape, beta_labels.shape, back_labels.shape)\n",
    "        \n",
    "        self.X = np.concatenate((alpha_inputs, beta_inputs, back_inputs), axis=0)\n",
    "        self.Y = np.concatenate((alpha_labels, beta_labels, back_labels), axis=0)"
   ]
  },
  {
   "cell_type": "markdown",
   "metadata": {},
   "source": [
    "**Создадим кастомный датасет**\n",
    "\n",
    "----"
   ]
  },
  {
   "cell_type": "code",
   "execution_count": 470,
   "metadata": {},
   "outputs": [],
   "source": [
    "class RadiatonDataset(Dataset): \n",
    "    def __init__(self, x, y=None):\n",
    "        self.data = x\n",
    "        self.labels = y\n",
    "        \n",
    "    def __len__(self):\n",
    "        return self.data.shape[0]\n",
    "    \n",
    "    def __getitem__(self, idx):\n",
    "        data = self.data[idx]\n",
    "        label = self.labels[idx]\n",
    "        if self.labels is not None:\n",
    "            return data, label\n",
    "        else:\n",
    "            return data"
   ]
  },
  {
   "cell_type": "markdown",
   "metadata": {},
   "source": [
    "**Построение модели**\n",
    "\n",
    "----"
   ]
  },
  {
   "cell_type": "code",
   "execution_count": 471,
   "metadata": {},
   "outputs": [],
   "source": [
    "class SigmoidBias(nn.Module):\n",
    "    def __init__(self, output_features=15, bias=True):\n",
    "        super(SigmoidBias, self).__init__()\n",
    "        if bias:\n",
    "            uniform = 0.1*(1-2*torch.rand(output_features))\n",
    "            self.bias = nn.Parameter(torch.Tensor(output_features))\n",
    "        else:\n",
    "            self.register_parameter('bias', None)\n",
    "\n",
    "    def forward(self, input):\n",
    "        output = torch.sigmoid(input)\n",
    "        if self.bias is not None:\n",
    "            output = output + self.bias.unsqueeze(0).expand_as(output)\n",
    "        return output\n"
   ]
  },
  {
   "cell_type": "code",
   "execution_count": 524,
   "metadata": {},
   "outputs": [],
   "source": [
    "class Net(nn.Module):  \n",
    "    def __init__(self, input_features, output_features):\n",
    "        super(Net, self).__init__()\n",
    "        \n",
    "        self.seq = nn.Sequential( \\\n",
    "                                nn.Linear(input_features, 20),\n",
    "                                nn.Linear(20, 10),\n",
    "                                nn.Linear(10, output_features),\n",
    "#                                 SigmoidBias(output_features)\n",
    "                                )\n",
    "\n",
    "    def forward(self, input): \n",
    "        x = self.seq(input)\n",
    "        return x"
   ]
  },
  {
   "cell_type": "markdown",
   "metadata": {},
   "source": [
    "**Обучение модели**\n",
    "\n",
    "\n",
    "----"
   ]
  },
  {
   "cell_type": "code",
   "execution_count": 525,
   "metadata": {},
   "outputs": [],
   "source": [
    "def run(s_epoch,n_epoch,lr):\n",
    "    '''Only raw data'''\n",
    "    net.train(True)\n",
    "    optimizer = optim.SGD(net.parameters(), lr=lr, momentum=0.9)\n",
    "    for epoch in tqdm(range(s_epoch,n_epoch)):  \n",
    "        running_corrects = 0\n",
    "        running_loss = 0.0\n",
    "        for i, data in enumerate(trainloader, 0):\n",
    "            inputs, labels = data\n",
    "            inputs, labels = Variable(inputs.float()).cuda(), Variable(labels).cuda()\n",
    "            optimizer.zero_grad()\n",
    "            outputs = net(inputs)\n",
    "            \n",
    "            loss = criterion(outputs, labels)\n",
    "            loss.backward()\n",
    "            optimizer.step()\n",
    "\n",
    "            running_loss += loss.data[0]\n",
    "\n",
    "            _, preds = torch.max(outputs.data, 1)\n",
    "            running_corrects += torch.sum(preds == labels.data)\n",
    "            \n",
    "        loss_data.append(running_loss)\n",
    "        corrects.append(running_corrects/len(trainloader.dataset))\n",
    "    print (\"Epoch %s, train accuracy %4s and loss %4s\" %(epoch+1,running_corrects/len(trainloader.dataset),running_loss))"
   ]
  },
  {
   "cell_type": "code",
   "execution_count": 526,
   "metadata": {},
   "outputs": [],
   "source": [
    "def check_test():\n",
    "    net.train(False)\n",
    "    classes = ('background', 'alpha', 'beta')\n",
    "    class_correct = list(0. for i in range(3))\n",
    "    class_total = list(0. for i in range(3))\n",
    "    \n",
    "    confusion_matrix = meter.ConfusionMeter(3)\n",
    "    \n",
    "    running_corrects=0\n",
    "    running_loss=0\n",
    "    y_hat = []\n",
    "    for data in testloader:\n",
    "        inputs, labels = data\n",
    "        outputs = net(Variable(inputs.float(), volatile=True).cuda())\n",
    "\n",
    "        loss = criterion(outputs, Variable(labels, volatile=True).cuda())\n",
    "        running_loss += loss.data[0]\n",
    "        _, preds = torch.max(outputs.data, 1)\n",
    "        running_corrects += torch.sum(preds.cpu() == labels)\n",
    "\n",
    "        y_hat.append(outputs)\n",
    "\n",
    "        _, predicted = torch.max(outputs.data, 1)\n",
    "        c = (predicted.cpu().numpy() == labels.numpy()).squeeze()\n",
    "        for i in range(c.size):\n",
    "            label = labels.numpy()[i]\n",
    "            class_correct[label] += c[i]\n",
    "            class_total[label] += 1 \n",
    "        confusion_matrix.add(predicted, torch.LongTensor(labels))\n",
    "    print (\"\\nTest accuracy %4s and loss %4s\" %(running_corrects/len(testloader.dataset),running_loss))\n",
    "\n",
    "    for i in range(3):\n",
    "        print('%4s : %2d %%' % (\n",
    "            classes[i], 100 * class_correct[i] / class_total[i]))\n",
    "    class_total[i]\n",
    "    print (\"Confusion matrix:\\n\",confusion_matrix.conf)"
   ]
  },
  {
   "cell_type": "markdown",
   "metadata": {},
   "source": [
    "**Соединим все вместе**\n",
    "\n",
    "----"
   ]
  },
  {
   "cell_type": "code",
   "execution_count": 542,
   "metadata": {
    "scrolled": false
   },
   "outputs": [
    {
     "name": "stderr",
     "output_type": "stream",
     "text": [
      "100%|██████████| 8/8 [00:03<00:00,  2.20it/s]\n"
     ]
    },
    {
     "name": "stdout",
     "output_type": "stream",
     "text": [
      "(533, 33) (533, 33) (533, 33)\n",
      "(533,) (533,) (533,)\n",
      "CPU times: user 45.5 s, sys: 36 ms, total: 45.6 s\n",
      "Wall time: 45.5 s\n"
     ]
    }
   ],
   "source": [
    "%%time\n",
    "my_dataset = MyDataLoader(3000, 2)\n",
    "my_dataset.load_dataset()\n",
    "my_dataset.generate_inputs_labels()"
   ]
  },
  {
   "cell_type": "code",
   "execution_count": 543,
   "metadata": {},
   "outputs": [
    {
     "data": {
      "text/plain": [
       "(1119, 480)"
      ]
     },
     "execution_count": 543,
     "metadata": {},
     "output_type": "execute_result"
    }
   ],
   "source": [
    "X_train, X_test, y_train, y_test = train_test_split(my_dataset.X, my_dataset.Y, test_size=0.3, random_state=42)\n",
    "\n",
    "train_dataset = RadiatonDataset(X_train, y_train)\n",
    "test_dataset = RadiatonDataset(X_test, y_test)\n",
    "\n",
    "len(train_dataset), len(test_dataset)"
   ]
  },
  {
   "cell_type": "code",
   "execution_count": 544,
   "metadata": {},
   "outputs": [],
   "source": [
    "trainloader = DataLoader(train_dataset, batch_size=50, shuffle=True)\n",
    "testloader = DataLoader(test_dataset, batch_size=50, shuffle=False)"
   ]
  },
  {
   "cell_type": "code",
   "execution_count": 545,
   "metadata": {},
   "outputs": [],
   "source": [
    "net = Net(input_features=33,output_features=3).cuda()\n",
    "criterion = nn.CrossEntropyLoss()\n",
    "\n",
    "loss_data = []\n",
    "corrects = []\n",
    "\n",
    "lr = 1e-6"
   ]
  },
  {
   "cell_type": "code",
   "execution_count": 546,
   "metadata": {
    "scrolled": true
   },
   "outputs": [
    {
     "name": "stderr",
     "output_type": "stream",
     "text": [
      "100%|██████████| 100/100 [00:03<00:00, 29.14it/s]"
     ]
    },
    {
     "name": "stdout",
     "output_type": "stream",
     "text": [
      "Epoch 100, train accuracy 0.6085790884718498 and loss 50.46900397539139\n",
      "\n",
      "Test accuracy 0.6229166666666667 and loss 43.00311779975891\n",
      "background : 84 %\n",
      "alpha : 14 %\n",
      "beta : 93 %\n",
      "Confusion matrix:\n",
      " [[141   1  25]\n",
      " [ 36  25 109]\n",
      " [  5   5 133]]\n"
     ]
    },
    {
     "name": "stderr",
     "output_type": "stream",
     "text": [
      "\n"
     ]
    }
   ],
   "source": [
    "run(0,100,lr)\n",
    "check_test()"
   ]
  },
  {
   "cell_type": "code",
   "execution_count": 547,
   "metadata": {
    "scrolled": true
   },
   "outputs": [
    {
     "name": "stderr",
     "output_type": "stream",
     "text": [
      "100%|██████████| 400/400 [00:12<00:00, 31.88it/s]"
     ]
    },
    {
     "name": "stdout",
     "output_type": "stream",
     "text": [
      "Epoch 500, train accuracy 0.6586237712243074 and loss 23.100738644599915\n",
      "\n",
      "Test accuracy 0.6541666666666667 and loss 11.29217916727066\n",
      "background : 77 %\n",
      "alpha : 29 %\n",
      "beta : 94 %\n",
      "Confusion matrix:\n",
      " [[129  12  26]\n",
      " [ 29  50  91]\n",
      " [  2   6 135]]\n"
     ]
    },
    {
     "name": "stderr",
     "output_type": "stream",
     "text": [
      "\n"
     ]
    }
   ],
   "source": [
    "run(100,500,lr)\n",
    "check_test()"
   ]
  },
  {
   "cell_type": "code",
   "execution_count": 548,
   "metadata": {
    "scrolled": true
   },
   "outputs": [
    {
     "name": "stderr",
     "output_type": "stream",
     "text": [
      "100%|██████████| 1500/1500 [00:46<00:00, 32.25it/s]"
     ]
    },
    {
     "name": "stdout",
     "output_type": "stream",
     "text": [
      "Epoch 2000, train accuracy 0.7596067917783735 and loss 14.981344491243362\n",
      "\n",
      "Test accuracy 0.7416666666666667 and loss 7.008434772491455\n",
      "background : 85 %\n",
      "alpha : 62 %\n",
      "beta : 74 %\n",
      "Confusion matrix:\n",
      " [[143  18   6]\n",
      " [ 29 107  34]\n",
      " [  3  34 106]]\n"
     ]
    },
    {
     "name": "stderr",
     "output_type": "stream",
     "text": [
      "\n"
     ]
    }
   ],
   "source": [
    "run(500,2000,lr*0.1)\n",
    "check_test()"
   ]
  },
  {
   "cell_type": "code",
   "execution_count": 549,
   "metadata": {},
   "outputs": [
    {
     "name": "stderr",
     "output_type": "stream",
     "text": [
      "100%|██████████| 500/500 [00:15<00:00, 31.94it/s]"
     ]
    },
    {
     "name": "stdout",
     "output_type": "stream",
     "text": [
      "Epoch 2500, train accuracy 0.7667560321715817 and loss 14.455217361450195\n",
      "\n",
      "Test accuracy 0.7375 and loss 7.002216160297394\n",
      "background : 86 %\n",
      "alpha : 57 %\n",
      "beta : 78 %\n",
      "Confusion matrix:\n",
      " [[144  15   8]\n",
      " [ 32  98  40]\n",
      " [  3  28 112]]\n"
     ]
    },
    {
     "name": "stderr",
     "output_type": "stream",
     "text": [
      "\n"
     ]
    }
   ],
   "source": [
    "run(2000,2500,lr*0.01)\n",
    "check_test()"
   ]
  },
  {
   "cell_type": "code",
   "execution_count": 550,
   "metadata": {},
   "outputs": [
    {
     "name": "stderr",
     "output_type": "stream",
     "text": [
      "100%|██████████| 500/500 [00:16<00:00, 31.19it/s]"
     ]
    },
    {
     "name": "stdout",
     "output_type": "stream",
     "text": [
      "Epoch 3000, train accuracy 0.7658623771224308 and loss 14.251101911067963\n",
      "\n",
      "Test accuracy 0.7375 and loss 7.0137364864349365\n",
      "background : 86 %\n",
      "alpha : 57 %\n",
      "beta : 78 %\n",
      "Confusion matrix:\n",
      " [[144  15   8]\n",
      " [ 32  98  40]\n",
      " [  3  28 112]]\n"
     ]
    },
    {
     "name": "stderr",
     "output_type": "stream",
     "text": [
      "\n"
     ]
    }
   ],
   "source": [
    "run(2500,3000,lr*0.001)\n",
    "check_test()"
   ]
  },
  {
   "cell_type": "code",
   "execution_count": 551,
   "metadata": {},
   "outputs": [
    {
     "data": {
      "text/plain": [
       "[<matplotlib.lines.Line2D at 0x7ff17ac50080>]"
      ]
     },
     "execution_count": 551,
     "metadata": {},
     "output_type": "execute_result"
    },
    {
     "data": {
      "image/png": "[encoded data removed]",
      "text/plain": [
       "<matplotlib.figure.Figure at 0x7ff17ab55c88>"
      ]
     },
     "metadata": {},
     "output_type": "display_data"
    }
   ],
   "source": [
    "plt.plot(loss_data[500:], color='red')"
   ]
  },
  {
   "cell_type": "markdown",
   "metadata": {},
   "source": [
    "Visualize data\n",
    "==="
   ]
  },
  {
   "cell_type": "code",
   "execution_count": null,
   "metadata": {},
   "outputs": [],
   "source": [
    "idx = 5"
   ]
  },
  {
   "cell_type": "code",
   "execution_count": null,
   "metadata": {},
   "outputs": [],
   "source": [
    "def show_mini_batch(idx, show_beta=False, show_alpha=False, show_back=False):\n",
    "    y_back = my_dataset.background_dataset[idx]\n",
    "    y_beta = my_dataset.beta_dataset[idx]\n",
    "    y_alpha = my_dataset.alpha_dataset[idx]\n",
    "    y_alpha_10p = [y_alpha.max*0.1 for x in y_alpha]\n",
    "    y_alpha_50p = [y_alpha.max*0.5 for x in y_alpha]\n",
    "    y_alpha_90p = [y_alpha.max*0.9 for x in y_alpha]\n",
    "\n",
    "    y_beta_10p = [y_beta.max*0.1 for x in y_beta]\n",
    "    y_beta_50p = [y_beta.max*0.5 for x in y_beta]\n",
    "    y_beta_90p = [y_beta.max*0.9 for x in y_beta]\n",
    "\n",
    "    y_back_10p = [y_back.max*0.1 for x in y_back]\n",
    "    y_back_50p = [y_back.max*0.5 for x in y_back]\n",
    "    y_back_90p = [y_back.max*0.9 for x in y_back]\n",
    "\n",
    "\n",
    "    if show_alpha:\n",
    "        plt.plot(y_alpha, color='green')\n",
    "        plt.plot(y_alpha_10p, color='yellow')\n",
    "        plt.plot(y_alpha_50p, color='yellow')\n",
    "        plt.plot(y_alpha_90p, color='yellow')\n",
    "        plt.title('Alpha')\n",
    "        y_alpha.print_features()\n",
    "\n",
    "    if show_beta:\n",
    "        plt.plot(y_beta, color='red')\n",
    "        plt.plot(y_beta_10p, color='yellow')\n",
    "        plt.plot(y_beta_50p, color='yellow')\n",
    "        plt.plot(y_beta_90p, color='yellow')\n",
    "        plt.title('Beta')\n",
    "        y_beta.print_features()\n",
    "\n",
    "    if show_back:\n",
    "        plt.plot(y_back, color='blue')\n",
    "        plt.plot(y_back_10p, color='yellow')\n",
    "        plt.plot(y_back_50p, color='yellow')\n",
    "        plt.plot(y_back_90p, color='yellow')\n",
    "        plt.title('Background')\n",
    "        y_back.print_features()"
   ]
  },
  {
   "cell_type": "code",
   "execution_count": null,
   "metadata": {},
   "outputs": [],
   "source": [
    "show_mini_batch(idx ,False, True, False)"
   ]
  },
  {
   "cell_type": "code",
   "execution_count": null,
   "metadata": {},
   "outputs": [],
   "source": []
  }
 ],
 "metadata": {
  "kernelspec": {
   "display_name": "Python 3",
   "language": "python",
   "name": "python3"
  },
  "language_info": {
   "codemirror_mode": {
    "name": "ipython",
    "version": 3
   },
   "file_extension": ".py",
   "mimetype": "text/x-python",
   "name": "python",
   "nbconvert_exporter": "python",
   "pygments_lexer": "ipython3",
   "version": "3.5.2"
  }
 },
 "nbformat": 4,
 "nbformat_minor": 2
}
